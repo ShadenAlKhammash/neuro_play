{
 "cells": [
  {
   "cell_type": "code",
   "execution_count": 2,
   "id": "03b495db",
   "metadata": {},
   "outputs": [],
   "source": [
    "import retro"
   ]
  },
  {
   "cell_type": "code",
   "execution_count": 5,
   "id": "131633b2",
   "metadata": {},
   "outputs": [
    {
     "ename": "AttributeError",
     "evalue": "module 'retro' has no attribute 'list_states'",
     "output_type": "error",
     "traceback": [
      "\u001b[0;31m---------------------------------------------------------------------------\u001b[0m",
      "\u001b[0;31mAttributeError\u001b[0m                            Traceback (most recent call last)",
      "Cell \u001b[0;32mIn[5], line 2\u001b[0m\n\u001b[1;32m      1\u001b[0m \u001b[38;5;28;01mimport\u001b[39;00m\u001b[38;5;250m \u001b[39m\u001b[38;5;21;01mretro\u001b[39;00m\n\u001b[0;32m----> 2\u001b[0m \u001b[38;5;28mprint\u001b[39m(\u001b[43mretro\u001b[49m\u001b[38;5;241;43m.\u001b[39;49m\u001b[43mlist_states\u001b[49m(\u001b[38;5;124m'\u001b[39m\u001b[38;5;124mSonicTheHedgehog2-Genesis\u001b[39m\u001b[38;5;124m'\u001b[39m))\n",
      "\u001b[0;31mAttributeError\u001b[0m: module 'retro' has no attribute 'list_states'"
     ]
    }
   ],
   "source": [
    "import retro\n",
    "print(retro.list_states('SonicTheHedgehog2-Genesis'))"
   ]
  },
  {
   "cell_type": "code",
   "execution_count": null,
   "id": "a3493296",
   "metadata": {},
   "outputs": [],
   "source": []
  }
 ],
 "metadata": {
  "kernelspec": {
   "display_name": "neuro_play",
   "language": "python",
   "name": "python3"
  },
  "language_info": {
   "codemirror_mode": {
    "name": "ipython",
    "version": 3
   },
   "file_extension": ".py",
   "mimetype": "text/x-python",
   "name": "python",
   "nbconvert_exporter": "python",
   "pygments_lexer": "ipython3",
   "version": "3.10.6"
  }
 },
 "nbformat": 4,
 "nbformat_minor": 5
}
