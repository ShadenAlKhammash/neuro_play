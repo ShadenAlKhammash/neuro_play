{
 "cells": [
  {
   "cell_type": "markdown",
   "id": "74e6f970",
   "metadata": {},
   "source": [
    "## 🕹️ Sonic The Hedgehog 2 – Available Game Levels\n"
   ]
  },
  {
   "cell_type": "code",
   "execution_count": 6,
   "id": "131633b2",
   "metadata": {},
   "outputs": [
    {
     "name": "stdout",
     "output_type": "stream",
     "text": [
      "1. AquaticRuinZone.Act1\n",
      "2. AquaticRuinZone.Act2\n",
      "3. CasinoNightZone.Act1\n",
      "4. CasinoNightZone.Act2\n",
      "5. ChemicalPlantZone.Act1\n",
      "6. ChemicalPlantZone.Act2\n",
      "7. EmeraldHillZone.Act1\n",
      "8. EmeraldHillZone.Act2\n",
      "9. HillTopZone.Act1\n",
      "10. HillTopZone.Act2\n",
      "11. MetropolisZone.Act1\n",
      "12. MetropolisZone.Act2\n",
      "13. MetropolisZone.Act3\n",
      "14. MysticCaveZone.Act1\n",
      "15. MysticCaveZone.Act2\n",
      "16. OilOceanZone.Act1\n",
      "17. OilOceanZone.Act2\n",
      "18. WingFortressZone\n"
     ]
    }
   ],
   "source": [
    "import retro\n",
    "\n",
    "states = retro.data.list_states('SonicTheHedgehog2-Genesis')\n",
    "\n",
    "for i, state in enumerate(states, start=1):\n",
    "    print(f\"{i}. {state}\")\n"
   ]
  },
  {
   "cell_type": "markdown",
   "id": "db35003f",
   "metadata": {},
   "source": []
  },
  {
   "cell_type": "code",
   "execution_count": null,
   "id": "a3493296",
   "metadata": {},
   "outputs": [],
   "source": []
  }
 ],
 "metadata": {
  "kernelspec": {
   "display_name": "neuro_play",
   "language": "python",
   "name": "python3"
  },
  "language_info": {
   "codemirror_mode": {
    "name": "ipython",
    "version": 3
   },
   "file_extension": ".py",
   "mimetype": "text/x-python",
   "name": "python",
   "nbconvert_exporter": "python",
   "pygments_lexer": "ipython3",
   "version": "3.10.6"
  }
 },
 "nbformat": 4,
 "nbformat_minor": 5
}
